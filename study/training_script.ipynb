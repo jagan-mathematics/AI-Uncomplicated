{
 "cells": [
  {
   "cell_type": "markdown",
   "id": "b1909485-664e-42a3-8c51-7d7f5442bd82",
   "metadata": {},
   "source": [
    "#### BUILD OUR TRANSFORMER MODEL"
   ]
  },
  {
   "cell_type": "markdown",
   "id": "c937ebb4-7960-431b-87a7-635cfd5eb140",
   "metadata": {},
   "source": [
    "1. Import necessary libraries and modules"
   ]
  },
  {
   "cell_type": "markdown",
   "id": "3f439ce9-4947-4968-a2aa-b9d450720835",
   "metadata": {},
   "source": [
    "2. Define the basic building blocks: Multi-Head Attention, Position-wise Feed-Forward Networks, Positional Encoding"
   ]
  },
  {
   "cell_type": "markdown",
   "id": "89f9c7ee-5799-4592-a189-1db39d14e932",
   "metadata": {},
   "source": [
    "3. Build the Encoder and Decoder layers"
   ]
  },
  {
   "cell_type": "markdown",
   "id": "91978b4b-d83d-4fa4-b32c-e0b3a0c712a8",
   "metadata": {},
   "source": [
    "4. Combine Encoder and Decoder layers to create the complete Transformer model"
   ]
  },
  {
   "cell_type": "markdown",
   "id": "0f641e67-1c90-483d-9c1a-9e83b41e91db",
   "metadata": {},
   "source": [
    "5. Prepare sample data"
   ]
  },
  {
   "cell_type": "markdown",
   "id": "be6ad733-28c1-46f8-83b0-ac69f6822151",
   "metadata": {},
   "source": [
    "6. Train the model"
   ]
  },
  {
   "cell_type": "code",
   "execution_count": 6,
   "id": "32ca7d26-3d27-4952-ada3-31c3100b91c6",
   "metadata": {},
   "outputs": [],
   "source": [
    "# Importing the necessary libraries and modules."
   ]
  },
  {
   "cell_type": "code",
   "execution_count": 7,
   "id": "0bfc7501-5f34-4584-b45e-7f4ee659c463",
   "metadata": {},
   "outputs": [],
   "source": [
    "import torch\n",
    "import torch.nn as nn\n",
    "import torch.optim as optim\n",
    "import torch.utils.data as data\n",
    "import math\n",
    "import copy"
   ]
  },
  {
   "cell_type": "markdown",
   "id": "beb7a1f4-b675-4400-8196-eeb9d1b15894",
   "metadata": {},
   "source": [
    "The Multi-Head Attention mechanism computes the attention between each pair of positions in a sequence. It consists of multiple “attention heads” that capture different aspects of the input sequence."
   ]
  },
  {
   "cell_type": "code",
   "execution_count": 8,
   "id": "dd7bb7ad-d4f0-416b-ad47-282c0424185a",
   "metadata": {},
   "outputs": [],
   "source": [
    "class MultiHeadAttention(nn.Module):\n",
    "    def __init__(self, d_model, num_heads):\n",
    "        super(MultiHeadAttention, self).__init__()\n",
    "        assert d_model % num_heads == 0, \"d_model must be divisible by num_heads\"\n",
    "        \n",
    "        self.d_model = d_model\n",
    "        self.num_heads = num_heads\n",
    "        self.d_k = d_model // num_heads\n",
    "        \n",
    "        self.W_q = nn.Linear(d_model, d_model)\n",
    "        self.W_k = nn.Linear(d_model, d_model)\n",
    "        self.W_v = nn.Linear(d_model, d_model)\n",
    "        self.W_o = nn.Linear(d_model, d_model)\n",
    "        \n",
    "    def scaled_dot_product_attention(self, Q, K, V, mask=None):\n",
    "        attn_scores = torch.matmul(Q, K.transpose(-2, -1)) / math.sqrt(self.d_k)\n",
    "        if mask is not None:\n",
    "            attn_scores = attn_scores.masked_fill(mask == 0, -1e9)\n",
    "        attn_probs = torch.softmax(attn_scores, dim=-1)\n",
    "        output = torch.matmul(attn_probs, V)\n",
    "        return output\n",
    "        \n",
    "    def split_heads(self, x):\n",
    "        batch_size, seq_length, d_model = x.size()\n",
    "        return x.view(batch_size, seq_length, self.num_heads, self.d_k).transpose(1, 2)\n",
    "        \n",
    "    def combine_heads(self, x):\n",
    "        batch_size, _, seq_length, d_k = x.size()\n",
    "        return x.transpose(1, 2).contiguous().view(batch_size, seq_length, self.d_model)\n",
    "        \n",
    "    def forward(self, Q, K, V, mask=None):\n",
    "        Q = self.split_heads(self.W_q(Q))\n",
    "        K = self.split_heads(self.W_k(K))\n",
    "        V = self.split_heads(self.W_v(V))\n",
    "        \n",
    "        attn_output = self.scaled_dot_product_attention(Q, K, V, mask)\n",
    "        output = self.W_o(self.combine_heads(attn_output))\n",
    "        return output"
   ]
  },
  {
   "cell_type": "markdown",
   "id": "11bcff5a-ca63-4630-a872-eea557434f8c",
   "metadata": {},
   "source": [
    "The MultiHeadAttention code initializes the module with input parameters and linear transformation layers. It calculates attention scores, reshapes the input tensor into multiple heads, and combines the attention outputs from all heads. The forward method computes the multi-head self-attention, allowing the model to focus on some different aspects of the input sequence.\n",
    "\n"
   ]
  },
  {
   "cell_type": "markdown",
   "id": "61538694-6a88-4dcb-8894-f56846027cbb",
   "metadata": {},
   "source": [
    "##### Position-wise Feed-Forward Networks"
   ]
  },
  {
   "cell_type": "code",
   "execution_count": 10,
   "id": "8e67a850-87ce-4000-bc2d-9d8c32c505c9",
   "metadata": {},
   "outputs": [],
   "source": [
    "class PositionWiseFeedForward(nn.Module):\n",
    "    def __init__(self, d_model, d_ff):\n",
    "        super(PositionWiseFeedForward, self).__init__()\n",
    "        self.fc1 = nn.Linear(d_model, d_ff)\n",
    "        self.fc2 = nn.Linear(d_ff, d_model)\n",
    "        self.relu = nn.ReLU()\n",
    "\n",
    "    def forward(self, x):\n",
    "        return self.fc2(self.relu(self.fc1(x)))"
   ]
  },
  {
   "cell_type": "markdown",
   "id": "2d90e238-fdb1-4766-955f-d2bbbc52ba67",
   "metadata": {},
   "source": [
    "The PositionWiseFeedForward class extends PyTorch’s nn.Module and implements a position-wise feed-forward network. The class initializes with two linear transformation layers and a ReLU activation function. The forward method applies these transformations and activation function sequentially to compute the output. This process enables the model to consider the position of input elements while making predictions."
   ]
  },
  {
   "cell_type": "markdown",
   "id": "82dec7c3-a6d7-44a8-b026-81a6c0d86a6f",
   "metadata": {},
   "source": [
    "##### Positional Encoding"
   ]
  },
  {
   "cell_type": "markdown",
   "id": "b0ee592e-43a5-4619-9726-b40a57efa916",
   "metadata": {},
   "source": [
    "Positional Encoding is used to inject the position information of each token in the input sequence. It uses sine and cosine functions of different frequencies to generate the positional encoding."
   ]
  },
  {
   "cell_type": "code",
   "execution_count": 11,
   "id": "f25c50af-7128-49ea-9a57-788019386e69",
   "metadata": {},
   "outputs": [],
   "source": [
    "class PositionalEncoding(nn.Module):\n",
    "    def __init__(self, d_model, max_seq_length):\n",
    "        super(PositionalEncoding, self).__init__()\n",
    "        \n",
    "        pe = torch.zeros(max_seq_length, d_model)\n",
    "        position = torch.arange(0, max_seq_length, dtype=torch.float).unsqueeze(1)\n",
    "        div_term = torch.exp(torch.arange(0, d_model, 2).float() * -(math.log(10000.0) / d_model))\n",
    "        \n",
    "        pe[:, 0::2] = torch.sin(position * div_term)\n",
    "        pe[:, 1::2] = torch.cos(position * div_term)\n",
    "        \n",
    "        self.register_buffer('pe', pe.unsqueeze(0))\n",
    "        \n",
    "    def forward(self, x):\n",
    "        return x + self.pe[:, :x.size(1)]"
   ]
  },
  {
   "cell_type": "markdown",
   "id": "f79e9620-84cc-4665-b1f2-044f5a8b37e2",
   "metadata": {},
   "source": [
    "The PositionalEncoding class initializes with input parameters d_model and max_seq_length, creating a tensor to store positional encoding values. The class calculates sine and cosine values for even and odd indices, respectively, based on the scaling factor div_term. The forward method computes the positional encoding by adding the stored positional encoding values to the input tensor, allowing the model to capture the position information of the input sequence.\n",
    "\n",
    "Now, we’ll build the Encoder and Decoder layers."
   ]
  },
  {
   "cell_type": "markdown",
   "id": "5d4029a3-dd94-48db-9f8c-296849f6b450",
   "metadata": {},
   "source": [
    "#### Encoder Layer"
   ]
  },
  {
   "cell_type": "markdown",
   "id": "e66b16f7-ed33-4dd2-8152-b44e2ae5e625",
   "metadata": {},
   "source": [
    "An Encoder layer consists of a Multi-Head Attention layer, a Position-wise Feed-Forward layer, and two Layer Normalization layers."
   ]
  },
  {
   "cell_type": "code",
   "execution_count": 12,
   "id": "769d6a8e-af0c-4e5b-9bd5-4311506a380b",
   "metadata": {},
   "outputs": [],
   "source": [
    "class EncoderLayer(nn.Module):\n",
    "    def __init__(self, d_model, num_heads, d_ff, dropout):\n",
    "        super(EncoderLayer, self).__init__()\n",
    "        self.self_attn = MultiHeadAttention(d_model, num_heads)\n",
    "        self.feed_forward = PositionWiseFeedForward(d_model, d_ff)\n",
    "        self.norm1 = nn.LayerNorm(d_model)\n",
    "        self.norm2 = nn.LayerNorm(d_model)\n",
    "        self.dropout = nn.Dropout(dropout)\n",
    "        \n",
    "    def forward(self, x, mask):\n",
    "        attn_output = self.self_attn(x, x, x, mask)\n",
    "        x = self.norm1(x + self.dropout(attn_output))\n",
    "        ff_output = self.feed_forward(x)\n",
    "        x = self.norm2(x + self.dropout(ff_output))\n",
    "        return x"
   ]
  },
  {
   "cell_type": "markdown",
   "id": "75d8e286-a2f5-43d2-9452-0b3bce74e8a5",
   "metadata": {},
   "source": [
    "The EncoderLayer class initializes with input parameters and components, including a MultiHeadAttention module, a PositionWiseFeedForward module, two layer normalization modules, and a dropout layer. The forward methods computes the encoder layer output by applying self-attention, adding the attention output to the input tensor, and normalizing the result. Then, it computes the position-wise feed-forward output, combines it with the normalized self-attention output, and normalizes the final result before returning the processed tensor."
   ]
  },
  {
   "cell_type": "markdown",
   "id": "0bdea4e1-a14c-45f5-9a63-20e73b371927",
   "metadata": {},
   "source": [
    "#### Decoder Layer"
   ]
  },
  {
   "cell_type": "markdown",
   "id": "9003bf78-81c5-4957-bb0d-bcc489415825",
   "metadata": {},
   "source": [
    "A Decoder layer consists of two Multi-Head Attention layers, a Position-wise Feed-Forward layer, and three Layer Normalization layers.\n",
    "\n"
   ]
  },
  {
   "cell_type": "code",
   "execution_count": 14,
   "id": "fcdc3c08-e78d-48b4-bec1-79f844071b26",
   "metadata": {},
   "outputs": [],
   "source": [
    "class DecoderLayer(nn.Module):\n",
    "    def __init__(self, d_model, num_heads, d_ff, dropout):\n",
    "        super(DecoderLayer, self).__init__()\n",
    "        self.self_attn = MultiHeadAttention(d_model, num_heads)\n",
    "        self.cross_attn = MultiHeadAttention(d_model, num_heads)\n",
    "        self.feed_forward = PositionWiseFeedForward(d_model, d_ff)\n",
    "        self.norm1 = nn.LayerNorm(d_model)\n",
    "        self.norm2 = nn.LayerNorm(d_model)\n",
    "        self.norm3 = nn.LayerNorm(d_model)\n",
    "        self.dropout = nn.Dropout(dropout)\n",
    "        \n",
    "    def forward(self, x, enc_output, src_mask, tgt_mask):\n",
    "        attn_output = self.self_attn(x, x, x, tgt_mask)\n",
    "        x = self.norm1(x + self.dropout(attn_output))\n",
    "        attn_output = self.cross_attn(x, enc_output, enc_output, src_mask)\n",
    "        x = self.norm2(x + self.dropout(attn_output))\n",
    "        ff_output = self.feed_forward(x)\n",
    "        x = self.norm3(x + self.dropout(ff_output))\n",
    "        return x"
   ]
  },
  {
   "cell_type": "markdown",
   "id": "92219c60-a182-439c-9a4e-114c0fa0b505",
   "metadata": {},
   "source": [
    "The DecoderLayer initializes with input parameters and components such as MultiHeadAttention modules for masked self-attention and cross-attention, a PositionWiseFeedForward module, three layer normalization modules, and a dropout layer.\n",
    "\n",
    "The forward method computes the decoder layer output by performing the following steps:\n",
    "\n",
    "Calculate the masked self-attention output and add it to the input tensor, followed by dropout and layer normalization.\n",
    "Compute the cross-attention output between the decoder and encoder outputs, and add it to the normalized masked self-attention output, followed by dropout and layer normalization.\n",
    "Calculate the position-wise feed-forward output and combine it with the normalized cross-attention output, followed by dropout and layer normalization.\n",
    "Return the processed tensor.\n",
    "These operations enable the decoder to generate target sequences based on the input and the encoder output.\n",
    "\n",
    "Now, let’s combine the Encoder and Decoder layers to create the complete Transformer model."
   ]
  },
  {
   "cell_type": "markdown",
   "id": "c03534c2-7135-4bb6-8c59-70332354b3c5",
   "metadata": {},
   "source": [
    "### Transformer Model"
   ]
  },
  {
   "cell_type": "markdown",
   "id": "cdf49a17-d516-45ea-a059-7d63e0988451",
   "metadata": {},
   "source": [
    "Merging it all together:"
   ]
  },
  {
   "cell_type": "code",
   "execution_count": 15,
   "id": "1214ed7c-9335-4d44-b9f0-756307d900cd",
   "metadata": {},
   "outputs": [],
   "source": [
    "class Transformer(nn.Module):\n",
    "    def __init__(self, src_vocab_size, tgt_vocab_size, d_model, num_heads, num_layers, d_ff, max_seq_length, dropout):\n",
    "        super(Transformer, self).__init__()\n",
    "        self.encoder_embedding = nn.Embedding(src_vocab_size, d_model)\n",
    "        self.decoder_embedding = nn.Embedding(tgt_vocab_size, d_model)\n",
    "        self.positional_encoding = PositionalEncoding(d_model, max_seq_length)\n",
    "\n",
    "        self.encoder_layers = nn.ModuleList([EncoderLayer(d_model, num_heads, d_ff, dropout) for _ in range(num_layers)])\n",
    "        self.decoder_layers = nn.ModuleList([DecoderLayer(d_model, num_heads, d_ff, dropout) for _ in range(num_layers)])\n",
    "\n",
    "        self.fc = nn.Linear(d_model, tgt_vocab_size)\n",
    "        self.dropout = nn.Dropout(dropout)\n",
    "\n",
    "    def generate_mask(self, src, tgt):\n",
    "        src_mask = (src != 0).unsqueeze(1).unsqueeze(2)\n",
    "        tgt_mask = (tgt != 0).unsqueeze(1).unsqueeze(3)\n",
    "        seq_length = tgt.size(1)\n",
    "        nopeak_mask = (1 - torch.triu(torch.ones(1, seq_length, seq_length), diagonal=1)).bool()\n",
    "        tgt_mask = tgt_mask & nopeak_mask\n",
    "        return src_mask, tgt_mask\n",
    "\n",
    "    def forward(self, src, tgt):\n",
    "        src_mask, tgt_mask = self.generate_mask(src, tgt)\n",
    "        src_embedded = self.dropout(self.positional_encoding(self.encoder_embedding(src)))\n",
    "        tgt_embedded = self.dropout(self.positional_encoding(self.decoder_embedding(tgt)))\n",
    "\n",
    "        enc_output = src_embedded\n",
    "        for enc_layer in self.encoder_layers:\n",
    "            enc_output = enc_layer(enc_output, src_mask)\n",
    "\n",
    "        dec_output = tgt_embedded\n",
    "        for dec_layer in self.decoder_layers:\n",
    "            dec_output = dec_layer(dec_output, enc_output, src_mask, tgt_mask)\n",
    "\n",
    "        output = self.fc(dec_output)\n",
    "        return output"
   ]
  },
  {
   "cell_type": "markdown",
   "id": "73b608ad-b5c6-4209-9b08-ff8bc7b9071c",
   "metadata": {},
   "source": [
    "The Transformer class combines the previously defined modules to create a complete Transformer model. During initialization, the Transformer module sets up input parameters and initializes various components, including embedding layers for source and target sequences, a PositionalEncoding module, EncoderLayer and DecoderLayer modules to create stacked layers, a linear layer for projecting decoder output, and a dropout layer.\n",
    "\n",
    "The generate_mask method creates binary masks for source and target sequences to ignore padding tokens and prevent the decoder from attending to future tokens. The forward method computes the Transformer model’s output through the following steps:\n",
    "\n",
    "Generate source and target masks using the generate_mask method.\n",
    "Compute source and target embeddings, and apply positional encoding and dropout.\n",
    "Process the source sequence through encoder layers, updating the enc_output tensor.\n",
    "Process the target sequence through decoder layers, using enc_output and masks, and updating the dec_output tensor.\n",
    "Apply the linear projection layer to the decoder output, obtaining output logits.\n",
    "These steps enable the Transformer model to process input sequences and generate output sequences based on the combined functionality of its components."
   ]
  },
  {
   "cell_type": "markdown",
   "id": "71aee341-c79f-45fe-bfac-22579cd77abf",
   "metadata": {},
   "source": [
    "#### Preparing Sample Data"
   ]
  },
  {
   "cell_type": "markdown",
   "id": "29f1ec73-8e44-4b39-96c0-96f05b4cf100",
   "metadata": {},
   "source": [
    "In this example, we will create a toy dataset for demonstration purposes. In practice, you would use a larger dataset, preprocess the text, and create vocabulary mappings for source and target languages.\n",
    "\n"
   ]
  },
  {
   "cell_type": "code",
   "execution_count": 16,
   "id": "e677c314-80e7-4d53-a01e-fd294e0daed9",
   "metadata": {},
   "outputs": [],
   "source": [
    "src_vocab_size = 5000\n",
    "tgt_vocab_size = 5000\n",
    "d_model = 512\n",
    "num_heads = 8\n",
    "num_layers = 6\n",
    "d_ff = 2048\n",
    "max_seq_length = 100\n",
    "dropout = 0.1\n",
    "\n",
    "transformer = Transformer(src_vocab_size, tgt_vocab_size, d_model, num_heads, num_layers, d_ff, max_seq_length, dropout)\n",
    "\n",
    "# Generate random sample data\n",
    "src_data = torch.randint(1, src_vocab_size, (64, max_seq_length))  # (batch_size, seq_length)\n",
    "tgt_data = torch.randint(1, tgt_vocab_size, (64, max_seq_length))  # (batch_size, seq_length)"
   ]
  },
  {
   "cell_type": "markdown",
   "id": "f096354e-b554-4630-9a99-f906f30c945c",
   "metadata": {},
   "source": [
    "#### Training the Model"
   ]
  },
  {
   "cell_type": "markdown",
   "id": "4c465677-774d-4df6-a613-7c515d174096",
   "metadata": {},
   "source": [
    "Now we’ll train the model using the sample data. In practice, you would use a larger dataset and split it into training and validation sets."
   ]
  },
  {
   "cell_type": "code",
   "execution_count": 17,
   "id": "8ed7639a-2e67-4dc8-a5a2-180a54c444f7",
   "metadata": {},
   "outputs": [
    {
     "name": "stdout",
     "output_type": "stream",
     "text": [
      "Epoch: 1, Loss: 8.689408302307129\n",
      "Epoch: 2, Loss: 8.55672836303711\n",
      "Epoch: 3, Loss: 8.482674598693848\n",
      "Epoch: 4, Loss: 8.43220043182373\n",
      "Epoch: 5, Loss: 8.3799409866333\n",
      "Epoch: 6, Loss: 8.316473007202148\n",
      "Epoch: 7, Loss: 8.237105369567871\n",
      "Epoch: 8, Loss: 8.155901908874512\n",
      "Epoch: 9, Loss: 8.070241928100586\n",
      "Epoch: 10, Loss: 7.989263534545898\n",
      "Epoch: 11, Loss: 7.91087007522583\n",
      "Epoch: 12, Loss: 7.828130722045898\n",
      "Epoch: 13, Loss: 7.75108528137207\n",
      "Epoch: 14, Loss: 7.660452842712402\n",
      "Epoch: 15, Loss: 7.5767035484313965\n",
      "Epoch: 16, Loss: 7.493221282958984\n",
      "Epoch: 17, Loss: 7.413312911987305\n",
      "Epoch: 18, Loss: 7.329152584075928\n",
      "Epoch: 19, Loss: 7.250594139099121\n",
      "Epoch: 20, Loss: 7.164120674133301\n",
      "Epoch: 21, Loss: 7.087869644165039\n",
      "Epoch: 22, Loss: 7.015345096588135\n",
      "Epoch: 23, Loss: 6.936041355133057\n",
      "Epoch: 24, Loss: 6.851895332336426\n",
      "Epoch: 25, Loss: 6.7784342765808105\n",
      "Epoch: 26, Loss: 6.710539817810059\n",
      "Epoch: 27, Loss: 6.63173770904541\n",
      "Epoch: 28, Loss: 6.557297706604004\n",
      "Epoch: 29, Loss: 6.4790802001953125\n",
      "Epoch: 30, Loss: 6.420034885406494\n",
      "Epoch: 31, Loss: 6.349697589874268\n",
      "Epoch: 32, Loss: 6.278048038482666\n",
      "Epoch: 33, Loss: 6.214756965637207\n",
      "Epoch: 34, Loss: 6.142762660980225\n",
      "Epoch: 35, Loss: 6.076086044311523\n",
      "Epoch: 36, Loss: 6.020542144775391\n",
      "Epoch: 37, Loss: 5.942408084869385\n",
      "Epoch: 38, Loss: 5.878732204437256\n",
      "Epoch: 39, Loss: 5.820744514465332\n",
      "Epoch: 40, Loss: 5.752049922943115\n",
      "Epoch: 41, Loss: 5.691584587097168\n",
      "Epoch: 42, Loss: 5.622920513153076\n",
      "Epoch: 43, Loss: 5.569799423217773\n",
      "Epoch: 44, Loss: 5.508398056030273\n",
      "Epoch: 45, Loss: 5.439168453216553\n",
      "Epoch: 46, Loss: 5.384790897369385\n",
      "Epoch: 47, Loss: 5.322388172149658\n",
      "Epoch: 48, Loss: 5.270368576049805\n",
      "Epoch: 49, Loss: 5.20700216293335\n",
      "Epoch: 50, Loss: 5.1471638679504395\n",
      "Epoch: 51, Loss: 5.09727668762207\n",
      "Epoch: 52, Loss: 5.043003082275391\n",
      "Epoch: 53, Loss: 4.993588447570801\n",
      "Epoch: 54, Loss: 4.925516605377197\n",
      "Epoch: 55, Loss: 4.868656158447266\n",
      "Epoch: 56, Loss: 4.821707248687744\n",
      "Epoch: 57, Loss: 4.768774032592773\n",
      "Epoch: 58, Loss: 4.710118293762207\n",
      "Epoch: 59, Loss: 4.6556830406188965\n",
      "Epoch: 60, Loss: 4.603532791137695\n",
      "Epoch: 61, Loss: 4.5540289878845215\n",
      "Epoch: 62, Loss: 4.501676082611084\n",
      "Epoch: 63, Loss: 4.44975471496582\n",
      "Epoch: 64, Loss: 4.394939422607422\n",
      "Epoch: 65, Loss: 4.346898078918457\n",
      "Epoch: 66, Loss: 4.295053958892822\n",
      "Epoch: 67, Loss: 4.247445583343506\n",
      "Epoch: 68, Loss: 4.1983113288879395\n",
      "Epoch: 69, Loss: 4.141798973083496\n",
      "Epoch: 70, Loss: 4.096995830535889\n",
      "Epoch: 71, Loss: 4.050425052642822\n",
      "Epoch: 72, Loss: 3.9992361068725586\n",
      "Epoch: 73, Loss: 3.9529356956481934\n",
      "Epoch: 74, Loss: 3.9016590118408203\n",
      "Epoch: 75, Loss: 3.860128164291382\n",
      "Epoch: 76, Loss: 3.8061070442199707\n",
      "Epoch: 77, Loss: 3.7579495906829834\n",
      "Epoch: 78, Loss: 3.7113397121429443\n",
      "Epoch: 79, Loss: 3.66281795501709\n",
      "Epoch: 80, Loss: 3.6143410205841064\n",
      "Epoch: 81, Loss: 3.576550006866455\n",
      "Epoch: 82, Loss: 3.5283942222595215\n",
      "Epoch: 83, Loss: 3.4860544204711914\n",
      "Epoch: 84, Loss: 3.4321370124816895\n",
      "Epoch: 85, Loss: 3.390669584274292\n",
      "Epoch: 86, Loss: 3.3448472023010254\n",
      "Epoch: 87, Loss: 3.2958037853240967\n",
      "Epoch: 88, Loss: 3.2481889724731445\n",
      "Epoch: 89, Loss: 3.205587387084961\n",
      "Epoch: 90, Loss: 3.1639585494995117\n",
      "Epoch: 91, Loss: 3.1203436851501465\n",
      "Epoch: 92, Loss: 3.0684494972229004\n",
      "Epoch: 93, Loss: 3.030477285385132\n",
      "Epoch: 94, Loss: 2.9919567108154297\n",
      "Epoch: 95, Loss: 2.935978651046753\n",
      "Epoch: 96, Loss: 2.897857666015625\n",
      "Epoch: 97, Loss: 2.858656406402588\n",
      "Epoch: 98, Loss: 2.813913106918335\n",
      "Epoch: 99, Loss: 2.7703771591186523\n",
      "Epoch: 100, Loss: 2.7301647663116455\n"
     ]
    }
   ],
   "source": [
    "criterion = nn.CrossEntropyLoss(ignore_index=0)\n",
    "optimizer = optim.Adam(transformer.parameters(), lr=0.0001, betas=(0.9, 0.98), eps=1e-9)\n",
    "\n",
    "transformer.train()\n",
    "\n",
    "for epoch in range(100):\n",
    "    optimizer.zero_grad()\n",
    "    output = transformer(src_data, tgt_data[:, :-1])\n",
    "    loss = criterion(output.contiguous().view(-1, tgt_vocab_size), tgt_data[:, 1:].contiguous().view(-1))\n",
    "    loss.backward()\n",
    "    optimizer.step()\n",
    "    print(f\"Epoch: {epoch+1}, Loss: {loss.item()}\")"
   ]
  },
  {
   "cell_type": "code",
   "execution_count": null,
   "id": "892e6b38-fe3b-4a67-87e3-aeb512189734",
   "metadata": {},
   "outputs": [],
   "source": []
  },
  {
   "cell_type": "code",
   "execution_count": null,
   "id": "068dfda2-5263-4d3e-9f5c-eff7acb073a0",
   "metadata": {},
   "outputs": [],
   "source": []
  }
 ],
 "metadata": {
  "kernelspec": {
   "display_name": "Python 3 (ipykernel)",
   "language": "python",
   "name": "python3"
  },
  "language_info": {
   "codemirror_mode": {
    "name": "ipython",
    "version": 3
   },
   "file_extension": ".py",
   "mimetype": "text/x-python",
   "name": "python",
   "nbconvert_exporter": "python",
   "pygments_lexer": "ipython3",
   "version": "3.9.18"
  }
 },
 "nbformat": 4,
 "nbformat_minor": 5
}
