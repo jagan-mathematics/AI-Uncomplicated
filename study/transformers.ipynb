{
 "cells": [
  {
   "cell_type": "code",
   "execution_count": 1,
   "metadata": {},
   "outputs": [],
   "source": [
    "import sys\n",
    "import os\n",
    "\n",
    "# Add the root directory to the sys.path\n",
    "sys.path.insert(0, os.path.abspath(os.path.dirname(os.getcwd())))"
   ]
  },
  {
   "cell_type": "code",
   "execution_count": 2,
   "metadata": {},
   "outputs": [],
   "source": [
    "from torch import nn\n",
    "import torch"
   ]
  },
  {
   "cell_type": "code",
   "execution_count": 3,
   "metadata": {},
   "outputs": [],
   "source": [
    "from core.configurations.base import BaseConfiguration\n",
    "\n",
    "config = BaseConfiguration(model_name=\"small_lm\", num_layers=2, hidden_dim=32, intermediate_dim=64,\n",
    "                               max_positions=256, vocabulary_size=64000, num_heads=2, attention_dropout=0.05,\n",
    "                               batch_size=8, weight_decay=0.01,\n",
    "                               learning_rate=5e-4,\n",
    "                               tokenizer_path=\"/workspace/vipin_g6/personal/pretraining/english_tokenizer/english_tokenizer.model\",\n",
    "                               dataset_batch_size=16, dataset_shuffle=True, num_epochs=2, eval_frequency=1,\n",
    "                               eval_iter=10,\n",
    "                               model_max_sequence=256)"
   ]
  },
  {
   "cell_type": "code",
   "execution_count": 4,
   "metadata": {},
   "outputs": [],
   "source": [
    "embedding = nn.Embedding(num_embeddings=config.vocabulary_size, embedding_dim=config.hidden_dim, padding_idx=config.padding_id)"
   ]
  },
  {
   "cell_type": "code",
   "execution_count": 5,
   "metadata": {},
   "outputs": [
    {
     "name": "stdout",
     "output_type": "stream",
     "text": [
      "Dummy Input Shape ::  torch.Size([3, 10])\n",
      "Input Tensor:\n",
      "tensor([[326, 814,  65, 400, 351,   0,   0,   0,   0,   0],\n",
      "        [925, 279, 903,  63, 229, 660, 334, 324,   0,   0],\n",
      "        [864, 977, 264, 554, 314, 823, 605, 664, 117, 221]])\n",
      "\n",
      "Attention Mask:\n",
      "tensor([[1, 1, 1, 1, 1, 0, 0, 0, 0, 0],\n",
      "        [1, 1, 1, 1, 1, 1, 1, 1, 0, 0],\n",
      "        [1, 1, 1, 1, 1, 1, 1, 1, 1, 1]])\n"
     ]
    }
   ],
   "source": [
    "dumpy_input = torch.randint(1, 1000, (3, 10,))\n",
    "attention_mask = torch.ones_like(dumpy_input)\n",
    "\n",
    "dumpy_input[0, 5:] = 0\n",
    "dumpy_input[1, 8:] = 0\n",
    "dumpy_input = dumpy_input.long()\n",
    "\n",
    "attention_mask[0, 5:] = 0\n",
    "attention_mask[1, 8:] = 0\n",
    "\n",
    "print(\"Dummy Input Shape :: \", dumpy_input.shape)\n",
    "print(\"Input Tensor:\")\n",
    "print(dumpy_input)\n",
    "print()\n",
    "print(\"Attention Mask:\")\n",
    "print(attention_mask)"
   ]
  },
  {
   "cell_type": "code",
   "execution_count": 6,
   "metadata": {},
   "outputs": [
    {
     "name": "stdout",
     "output_type": "stream",
     "text": [
      "Input id embedding value ::  torch.Size([3, 10, 32])\n"
     ]
    }
   ],
   "source": [
    "hidden_state = embedding(dumpy_input)\n",
    "print(\"Input id embedding value :: \", hidden_state.shape)"
   ]
  },
  {
   "cell_type": "markdown",
   "metadata": {},
   "source": [
    "## Decoder Layer"
   ]
  },
  {
   "cell_type": "markdown",
   "metadata": {},
   "source": [
    "## Layer Norm"
   ]
  },
  {
   "cell_type": "code",
   "execution_count": 7,
   "metadata": {},
   "outputs": [],
   "source": [
    "import numbers\n",
    "import torch\n",
    "from torch import nn\n",
    "import torch.nn.functional as F\n",
    "\n",
    "class LayerNorm(nn.Module):\n",
    "    \"\"\"\n",
    "    Class the contains LayerNorm\n",
    "    This is same as transformers implementation\n",
    "    \"\"\"\n",
    "    def __init__(self, model_dimension, epsilon=0.00001):\n",
    "        super(LayerNorm, self).__init__()\n",
    "        if isinstance(model_dimension, numbers.Integral):\n",
    "            # mypy error: incompatible types in assignment\n",
    "            model_dimension = (model_dimension,) \n",
    "        self.model_dimension = model_dimension\n",
    "        self.gamma = nn.Parameter(torch.ones(model_dimension))\n",
    "        self.beta = nn.Parameter(torch.zeros(model_dimension))\n",
    "        self.epsilon = epsilon\n",
    "\n",
    "\n",
    "    def forward(self, x):\n",
    "        if isinstance(x, tuple):\n",
    "            x = x[0]\n",
    "        return F.layer_norm(\n",
    "            x, self.model_dimension, self.gamma, self.beta, self.epsilon\n",
    "        )\n",
    "        \n"
   ]
  },
  {
   "cell_type": "code",
   "execution_count": 8,
   "metadata": {},
   "outputs": [
    {
     "name": "stdout",
     "output_type": "stream",
     "text": [
      "Output shape: torch.Size([3, 10, 32])\n",
      "Mean (last dimension): tensor([[-1.1176e-08,  1.3039e-08, -3.7253e-08, -2.6077e-08, -2.8871e-08,\n",
      "          0.0000e+00,  0.0000e+00,  0.0000e+00,  0.0000e+00,  0.0000e+00],\n",
      "        [ 1.4901e-08, -2.2352e-08, -2.2352e-08,  0.0000e+00, -3.7253e-09,\n",
      "         -1.4901e-08, -1.8626e-08,  3.7253e-08,  0.0000e+00,  0.0000e+00],\n",
      "        [ 2.2352e-08,  0.0000e+00, -7.4506e-09,  7.4506e-09,  1.3039e-08,\n",
      "         -3.7253e-09,  1.8626e-09,  7.4506e-09,  2.2352e-08,  0.0000e+00]],\n",
      "       grad_fn=<MeanBackward1>)\n",
      "Std (last dimension): tensor([[1.0160, 1.0160, 1.0160, 1.0160, 1.0160, 0.0000, 0.0000, 0.0000, 0.0000,\n",
      "         0.0000],\n",
      "        [1.0160, 1.0160, 1.0160, 1.0160, 1.0160, 1.0160, 1.0160, 1.0160, 0.0000,\n",
      "         0.0000],\n",
      "        [1.0160, 1.0160, 1.0160, 1.0160, 1.0160, 1.0160, 1.0160, 1.0160, 1.0160,\n",
      "         1.0160]], grad_fn=<StdBackward0>)\n"
     ]
    }
   ],
   "source": [
    "layer_norm = LayerNorm(config.hidden_dim)\n",
    "output = layer_norm(hidden_state)\n",
    "print(\"Output shape:\", output.shape)\n",
    "print(\"Mean (last dimension):\", output.mean(dim=-1))\n",
    "print(\"Std (last dimension):\", output.std(dim=-1))\n"
   ]
  },
  {
   "cell_type": "code",
   "execution_count": 9,
   "metadata": {},
   "outputs": [],
   "source": [
    "from typing import Optional, Tuple\n",
    "\n",
    "from torch import Tensor\n",
    "\n",
    "\n",
    "def create_causal_mask(\n",
    "    attention_mask,\n",
    "    shape: Tuple[int, ...],\n",
    "    dtype: torch.dtype,\n",
    "    device: torch.device\n",
    ") -> Tensor:\n",
    "    \"\"\"\n",
    "    Efficiently creates a causal mask without redundant computations.\n",
    "    \"\"\"\n",
    "    seq_len = shape[-1]\n",
    "    batch_size = shape[0]\n",
    "    mask = torch.triu(\n",
    "        torch.ones(seq_len, seq_len, dtype=dtype, device=device),\n",
    "        diagonal=1\n",
    "    )\n",
    "    \n",
    "    # Directly create with -inf instead of using masked_fill\n",
    "    causal_mask = mask.masked_fill(mask > 0, float('-inf'))\n",
    "    \n",
    "    # Expand to match input shape\n",
    "    if len(shape) == 4:  # [B, H, S, S]\n",
    "        causal_mask = causal_mask.view(1, 1, seq_len, seq_len)\n",
    "    else:  # [B, S, S]\n",
    "        causal_mask = causal_mask.view(1, seq_len, seq_len)\n",
    "    \n",
    "    if attention_mask is not None:\n",
    "        if len(shape) == 4:\n",
    "            attention_mask = attention_mask.view(batch_size, 1, 1, seq_len)\n",
    "        else:\n",
    "            attention_mask = attention_mask.view(batch_size, 1, seq_len)\n",
    "        \n",
    "        mask_value = torch.finfo(dtype).min\n",
    "        causal_mask = causal_mask.masked_fill(attention_mask == 0, mask_value)\n",
    "    return causal_mask"
   ]
  },
  {
   "cell_type": "code",
   "execution_count": 93,
   "metadata": {},
   "outputs": [
    {
     "name": "stdout",
     "output_type": "stream",
     "text": [
      "Causal Mask Shape ::  torch.Size([3, 10, 10])\n"
     ]
    }
   ],
   "source": [
    "causal_mask = create_causal_mask(\n",
    "    attention_mask,\n",
    "    dumpy_input.shape,\n",
    "    hidden_state.dtype,\n",
    "    hidden_state.device,\n",
    ")\n",
    "\n",
    "print(\"Causal Mask Shape :: \", causal_mask.shape)"
   ]
  },
  {
   "cell_type": "code",
   "execution_count": 94,
   "metadata": {},
   "outputs": [
    {
     "name": "stderr",
     "output_type": "stream",
     "text": [
      "/root/anaconda3/envs/ai_experimentation_env/lib/python3.11/site-packages/matplotlib/colors.py:1405: RuntimeWarning: overflow encountered in divide\n",
      "  resdat /= (vmax - vmin)\n",
      "/root/anaconda3/envs/ai_experimentation_env/lib/python3.11/site-packages/matplotlib/colors.py:1405: RuntimeWarning: overflow encountered in divide\n",
      "  resdat /= (vmax - vmin)\n",
      "/root/anaconda3/envs/ai_experimentation_env/lib/python3.11/site-packages/matplotlib/colors.py:1405: RuntimeWarning: overflow encountered in divide\n",
      "  resdat /= (vmax - vmin)\n"
     ]
    },
    {
     "data": {
      "image/png": "[encoded data removed]",
      "text/plain": [
       "<Figure size 640x480 with 6 Axes>"
      ]
     },
     "metadata": {},
     "output_type": "display_data"
    }
   ],
   "source": [
    "import seaborn as sns\n",
    "import matplotlib.pyplot as plt\n",
    "\n",
    "_, axes = plt.subplots(3)\n",
    "\n",
    "sns.heatmap(causal_mask[0, :, :], cmap=\"Blues\", ax=axes[0])\n",
    "sns.heatmap(causal_mask[1, :, :], cmap=\"Blues\", ax=axes[1])\n",
    "sns.heatmap(causal_mask[-1, :, :], cmap=\"Blues\", ax=axes[2])\n",
    "\n",
    "plt.show()\n",
    "        "
   ]
  },
  {
   "cell_type": "markdown",
   "metadata": {},
   "source": [
    "#### Rope Positional Embedding + Attention \n",
    "\n",
    "\n",
    "for rope positional embedding implementation details see, `study/rope_positional_encoding.ipynb`"
   ]
  },
  {
   "cell_type": "code",
   "execution_count": 12,
   "metadata": {},
   "outputs": [],
   "source": [
    "from core.layers.positional_embedding.rope_projector import RopePositionEmbedding\n",
    "from core.layers.positional_embedding.rope_projector import apply_positional_embedding\n",
    "\n"
   ]
  },
  {
   "cell_type": "code",
   "execution_count": null,
   "metadata": {},
   "outputs": [],
   "source": [
    "import math\n",
    "\n",
    "\n",
    "class RopeAttention(nn.Module):\n",
    "    \"\"\"\n",
    "    Implements attention mechanism with Rotary Position Embedding (RoPE).\n",
    "    \"\"\"\n",
    "    \n",
    "    def __init__(self, config: BaseConfiguration):\n",
    "        super().__init__()\n",
    "        assert config.head_dim is not None\n",
    "        if config.hidden_dim % config.head_dim != 0:\n",
    "            raise ValueError(\n",
    "                f\"hidden_size must be divisible by num_heads (got `hidden_size`: {self.hidden_size}\"\n",
    "                f\" and `num_heads`: {self.num_heads}).\"\n",
    "            )\n",
    "        \n",
    "        self.config = config\n",
    "        self.attention_dropout = config.attention_dropout\n",
    "        self.hidden_dim = config.hidden_dim\n",
    "        self.num_heads = config.num_heads\n",
    "        self.head_dim = config.head_dim\n",
    "        self.scaling = 1 / math.sqrt(config.head_dim)\n",
    "        \n",
    "        # Initialize RoPE if enabled\n",
    "        self.use_rope = config.use_rope\n",
    "        if self.use_rope:\n",
    "            self.rope_position_projection = RopePositionEmbedding(\n",
    "                hidden_dim=config.head_dim,\n",
    "                max_positions=config.max_positions,\n",
    "                base=config.rope_base\n",
    "            )\n",
    "        \n",
    "        # Initialize projection layers\n",
    "        self.qkv_projection = nn.Linear(\n",
    "            config.hidden_dim,\n",
    "            3 * config.hidden_dim,\n",
    "            bias=False\n",
    "        )\n",
    "        \n",
    "        self.output_projection = nn.Linear(\n",
    "            config.hidden_dim,\n",
    "            config.hidden_dim,\n",
    "            bias=False\n",
    "        )\n",
    "    \n",
    "    def forward(\n",
    "        self,\n",
    "        input_tensor: torch.Tensor,\n",
    "        attention_mask: Optional[torch.Tensor] = None,\n",
    "        positions: Optional[torch.Tensor] = None,\n",
    "        output_attentions: bool = False\n",
    "    ) -> Tuple[torch.Tensor, Optional[torch.Tensor]]:\n",
    "        \"\"\"\n",
    "        Forward pass for RoPE attention.\n",
    "        \n",
    "        Args:\n",
    "            input_tensor: Input tensor [batch_size, seq_len, hidden_dim]\n",
    "            attention_mask: Optional attention mask [batch_size, seq_len]\n",
    "            positions: Optional position indices\n",
    "            output_attentions: Whether to return attention weights\n",
    "        \n",
    "        Returns:\n",
    "            Tuple of (output tensor, optional attention weights)\n",
    "        \"\"\"\n",
    "        if input_tensor.dim() != 3:\n",
    "            raise ValueError(f\"Expected 3D input, got {input_tensor.dim()}D\")\n",
    "        \n",
    "        batch_size, seq_length, _ = input_tensor.shape\n",
    "        \n",
    "        # Fused QKV projection\n",
    "        qkv = self.qkv_projection(input_tensor)\n",
    "        qkv = qkv.view(batch_size, seq_length, 3, self.num_heads, self.head_dim)\n",
    "        qkv = qkv.permute(2, 0, 3, 1, 4)  # [3, batch_size, num_heads, seq_len, head_dim]\n",
    "        query_states, key_states, value_states = qkv\n",
    "        \n",
    "        # Apply RoPE if enabled\n",
    "        if self.use_rope:\n",
    "            cos, sin = self.rope_position_projection(query_states)\n",
    "            query_states, key_states = apply_positional_embedding(\n",
    "                query_states, key_states, cos, sin\n",
    "            )\n",
    "        \n",
    "        # Compute attention scores with improved numerical stability\n",
    "        attn_weights = torch.matmul(query_states, key_states.transpose(-2, -1))\n",
    "        attn_weights = attn_weights * self.scaling\n",
    "        \n",
    "        # Apply attention mask if provided\n",
    "        if attention_mask is not None:\n",
    "            # Convert mask to proper dtype\n",
    "            attention_mask = attention_mask.to(dtype=query_states.dtype)\n",
    "            \n",
    "            # Add head dimension if needed\n",
    "            if attention_mask.dim() == 3:\n",
    "                attention_mask = attention_mask.unsqueeze(1)\n",
    "            \n",
    "            # Ensure proper sequence length\n",
    "            attention_mask = attention_mask[:, :, :, :key_states.shape[-2]]\n",
    "            \n",
    "            attn_weights = attn_weights + attention_mask\n",
    "        \n",
    "        # Compute attention probabilities with improved numerical stability\n",
    "        attn_weights_float = F.softmax(attn_weights, dim=-1, dtype=torch.float32)\n",
    "        attn_weights = attn_weights_float.to(query_states.dtype)\n",
    "        \n",
    "        # Apply dropout during training\n",
    "        if self.training:\n",
    "            attn_weights = F.dropout(\n",
    "                attn_weights,\n",
    "                p=self.attention_dropout,\n",
    "                training=True\n",
    "            )\n",
    "        \n",
    "        # Compute attention output\n",
    "        attn_output = torch.matmul(attn_weights, value_states)\n",
    "        \n",
    "        # Validate output shape\n",
    "        expected_shape = (batch_size, self.num_heads, seq_length, self.head_dim)\n",
    "        if attn_output.shape != expected_shape:\n",
    "            raise ValueError(\n",
    "                f\"Expected output shape {expected_shape}, got {attn_output.shape}\"\n",
    "            )\n",
    "        \n",
    "        # Reshape output and apply output projection\n",
    "        attn_output = attn_output.transpose(1, 2).contiguous()\n",
    "        attn_output = attn_output.view(batch_size, seq_length, self.hidden_dim)\n",
    "        attn_output = self.output_projection(attn_output)\n",
    "        \n",
    "        return attn_output, (attn_weights if output_attentions else None)"
   ]
  },
  {
   "cell_type": "code",
   "execution_count": 22,
   "metadata": {},
   "outputs": [],
   "source": [
    "attention_layer = RopeAttention(config=config)"
   ]
  },
  {
   "cell_type": "code",
   "execution_count": 38,
   "metadata": {},
   "outputs": [
    {
     "name": "stdout",
     "output_type": "stream",
     "text": [
      "Attention Output shape ::  torch.Size([3, 10, 32])\n"
     ]
    }
   ],
   "source": [
    "output, attention = attention_layer(\n",
    "    hidden_state,\n",
    "    causal_mask,\n",
    "    output_attentions=True\n",
    ")\n",
    "\n",
    "print(\"Attention Output shape :: \", output.shape)"
   ]
  },
  {
   "cell_type": "code",
   "execution_count": 39,
   "metadata": {},
   "outputs": [
    {
     "data": {
      "text/plain": [
       "<Axes: >"
      ]
     },
     "execution_count": 39,
     "metadata": {},
     "output_type": "execute_result"
    },
    {
     "data": {
      "image/png": "[encoded data removed]",
      "text/plain": [
       "<Figure size 640x480 with 2 Axes>"
      ]
     },
     "metadata": {},
     "output_type": "display_data"
    }
   ],
   "source": [
    "sns.heatmap(attention[-1][1].detach().numpy())"
   ]
  },
  {
   "cell_type": "code",
   "execution_count": 40,
   "metadata": {},
   "outputs": [],
   "source": [
    "import torch\n",
    "from torch import nn\n",
    "from core.configurations.base import BaseConfiguration\n",
    "\n",
    "from core.activations.gelu import PytorchGELUTanh\n",
    "\n",
    "\n",
    "class PointWiseProjection(nn.Module):\n",
    "    \"\"\"\n",
    "    point wise project as native from `attention is all you need`\n",
    "    with slight changes in activation relu -> gelu tanh approximation\n",
    "    https://arxiv.org/pdf/1706.03762\n",
    "    \"\"\"\n",
    "    def __init__(self, config: BaseConfiguration):\n",
    "        super().__init__()\n",
    "        self.up_projection = nn.Linear(config.hidden_dim, config.intermediate_dim, bias=False)\n",
    "        self.down_projection = nn.Linear(config.intermediate_dim, config.hidden_dim, bias=False)\n",
    "        self.act_func = PytorchGELUTanh()\n",
    "\n",
    "\n",
    "    def forward(self, input_tensor: torch.Tensor) -> torch.Tensor:\n",
    "        return self.down_projection(self.act_func(self.up_projection(input_tensor)))\n",
    "    \n",
    "    \n",
    "\n",
    "class PointWiseGatedProjection(nn.Module):\n",
    "    \"\"\"\n",
    "    point wise project as native from `attention is all you need`\n",
    "    with slight changes in activation relu -> gelu tanh approximation\n",
    "    https://arxiv.org/pdf/1706.03762\n",
    "    \"\"\"\n",
    "\n",
    "    def __init__(self, config: BaseConfiguration):\n",
    "        super().__init__()\n",
    "        self.intermediate_size = config.intermediate_dim\n",
    "        # print(f\"## config hidden dim {config.hidden_dim}\")\n",
    "        # print(f\"## config intermediate dim {config.intermediate_dim}\")\n",
    "        self.gate_projection = nn.Linear(config.hidden_dim, config.intermediate_dim, bias=False)\n",
    "        self.up_projection = nn.Linear(config.hidden_dim, config.intermediate_dim, bias=False)\n",
    "        self.down_projection = nn.Linear(config.intermediate_dim, config.hidden_dim, bias=False)\n",
    "        \n",
    "        self.act_func = PytorchGELUTanh()\n",
    "\n",
    "    def forward(self, input_tensor: torch.Tensor) -> torch.Tensor:\n",
    "        return self.down_projection(self.act_func(self.gate_projection(input_tensor)) * self.up_projection(input_tensor))\n"
   ]
  },
  {
   "cell_type": "code",
   "execution_count": 41,
   "metadata": {},
   "outputs": [],
   "source": [
    "projection_layer = PointWiseGatedProjection(config=config)"
   ]
  },
  {
   "cell_type": "code",
   "execution_count": 44,
   "metadata": {},
   "outputs": [
    {
     "name": "stdout",
     "output_type": "stream",
     "text": [
      "Projection Output shape ::  torch.Size([3, 10, 32])\n"
     ]
    }
   ],
   "source": [
    "projection_output = projection_layer(output)\n",
    "\n",
    "print(\"Projection Output shape :: \", projection_output.shape)"
   ]
  },
  {
   "cell_type": "code",
   "execution_count": 45,
   "metadata": {},
   "outputs": [],
   "source": [
    "class DecoderLayer(nn.Module):\n",
    "    def __init__(self, base_cfg: BaseConfiguration):\n",
    "        super().__init__()\n",
    "\n",
    "        self.input_norm = LayerNorm(model_dimension=base_cfg.hidden_dim)\n",
    "        self.self_attn = RopeAttention(\n",
    "            config=base_cfg\n",
    "        )\n",
    "        self.attention_dropout = nn.Dropout(p=base_cfg.attention_dropout)\n",
    "\n",
    "        self.post_attention_norm = LayerNorm(model_dimension=base_cfg.hidden_dim)\n",
    "        self.mlp = PointWiseGatedProjection(config=base_cfg)\n",
    "        self.dropout2 = nn.Dropout(p=base_cfg.attention_dropout)\n",
    "\n",
    "\n",
    "    def forward(self, hidden_state, attention_mask, output_attentions=False):\n",
    "        \"\"\"\n",
    "         https://arxiv.org/pdf/2002.04745 (PRE-Norm)\n",
    "\n",
    "\n",
    "        x = embedding of each tokens (B x S x D)\n",
    "        mask = self_attention autput (B x S x D)\n",
    "\n",
    "        Self-attention sub-block 1\n",
    "        x => norm(x) => n_x => att(n_x) => (a_x, a_score) => a_x + x => h_x\n",
    "\n",
    "        MLP sub-block: 2\n",
    "\n",
    "        h_x => norm(h_x) => n_hx => mlp(n_hx) => n_x => x_x + h_x => h_x\n",
    "        \"\"\"\n",
    "        residual_x = hidden_state\n",
    "\n",
    "        hidden_state = self.input_norm(hidden_state)\n",
    "        hidden_state, self_attn_weights = self.self_attn(\n",
    "            input_tensor=hidden_state,\n",
    "            attention_mask=attention_mask,\n",
    "            output_attentions=output_attentions,\n",
    "        )\n",
    "        hidden_state = self.attention_dropout(hidden_state)\n",
    "        hidden_state = residual_x + hidden_state\n",
    "\n",
    "        residual_x = hidden_state\n",
    "\n",
    "        hidden_state = self.post_attention_norm(hidden_state)\n",
    "        hidden_state = self.mlp(hidden_state)\n",
    "        hidden_state = self.dropout2(hidden_state)\n",
    "        hidden_state = residual_x + hidden_state\n",
    "\n",
    "        return hidden_state, self_attn_weights\n",
    "\n"
   ]
  },
  {
   "cell_type": "code",
   "execution_count": 46,
   "metadata": {},
   "outputs": [],
   "source": [
    "decoder_layer = DecoderLayer(config)"
   ]
  },
  {
   "cell_type": "code",
   "execution_count": 51,
   "metadata": {},
   "outputs": [],
   "source": [
    "decoder_output, attentions = decoder_layer(hidden_state,\n",
    "              causal_mask, output_attentions=True)"
   ]
  },
  {
   "cell_type": "code",
   "execution_count": 101,
   "metadata": {},
   "outputs": [],
   "source": [
    "class Model(nn.Module):\n",
    "    def __init__(self, config: BaseConfiguration):\n",
    "        super().__init__()\n",
    "\n",
    "        self.config = config\n",
    "\n",
    "        self.token_embeddings = nn.Embedding(\n",
    "            num_embeddings=config.vocabulary_size,\n",
    "            embedding_dim=config.hidden_dim,\n",
    "            padding_idx=config.padding_id\n",
    "        )\n",
    "\n",
    "        # Decoder layer stack\n",
    "        self.decoder_layers = nn.ModuleList([\n",
    "            DecoderLayer(\n",
    "                config\n",
    "            )\n",
    "            for _ in range(config.num_layers)\n",
    "        ])\n",
    "\n",
    "        # Layer Norm initialization\n",
    "        self.final_layer_norm = LayerNorm(\n",
    "            model_dimension=config.hidden_dim\n",
    "        )\n",
    "\n",
    "    def forward(self, input_tensor, attn_mask=None, output_attentions=False):\n",
    "        if attn_mask is None:\n",
    "            attn_mask = torch.ones_like(input_tensor)\n",
    "\n",
    "        hidden_states = self.token_embeddings(input_tensor)\n",
    "        print(attn_mask.shape)\n",
    "        causal_mask = create_causal_mask(\n",
    "            attention_mask=attn_mask,\n",
    "            shape=input_tensor.shape,\n",
    "            dtype=hidden_state.dtype,\n",
    "            device=hidden_state.device\n",
    "        )\n",
    "\n",
    "\n",
    "        output_attentions_weights = ()\n",
    "        for decoder_layer in self.decoder_layers:\n",
    "            hidden_states, attention_weight = decoder_layer(\n",
    "                hidden_states,\n",
    "                causal_mask,\n",
    "                output_attentions=output_attentions\n",
    "            )\n",
    "            output_attentions_weights += (attention_weight,)\n",
    "\n",
    "        hidden_states = self.final_layer_norm(hidden_states)\n",
    "\n",
    "        return hidden_states, (output_attentions_weights if output_attentions else None)"
   ]
  },
  {
   "cell_type": "code",
   "execution_count": 102,
   "metadata": {},
   "outputs": [],
   "source": [
    "model = Model(config)"
   ]
  },
  {
   "cell_type": "code",
   "execution_count": 103,
   "metadata": {},
   "outputs": [
    {
     "name": "stdout",
     "output_type": "stream",
     "text": [
      "torch.Size([3, 10])\n"
     ]
    }
   ],
   "source": [
    "output, attentions = model(dumpy_input, attention_mask, True)"
   ]
  },
  {
   "cell_type": "code",
   "execution_count": 104,
   "metadata": {},
   "outputs": [
    {
     "data": {
      "text/plain": [
       "torch.Size([3, 10, 32])"
      ]
     },
     "execution_count": 104,
     "metadata": {},
     "output_type": "execute_result"
    }
   ],
   "source": [
    "output.shape"
   ]
  },
  {
   "cell_type": "code",
   "execution_count": 105,
   "metadata": {},
   "outputs": [],
   "source": [
    "from core.trainer.validator import validate_model_initial_states"
   ]
  },
  {
   "cell_type": "code",
   "execution_count": null,
   "metadata": {},
   "outputs": [
    {
     "name": "stdout",
     "output_type": "stream",
     "text": [
      "\n",
      "Initialization Statistics:\n",
      "\n",
      "token_embeddings:\n",
      "Mean: -0.000425\n",
      "Std:  0.999283\n",
      "Min:  -4.689465\n",
      "Max:  4.892149\n",
      "Near zero: 0.00%\n",
      "\n",
      "decoder_layers.0.self_attn.qkv_projection:\n",
      "Mean: 0.001068\n",
      "Std:  0.103101\n",
      "Min:  -0.176547\n",
      "Max:  0.176750\n",
      "Near zero: 0.00%\n",
      "\n",
      "decoder_layers.0.self_attn.output_projection:\n",
      "Mean: -0.001130\n",
      "Std:  0.103176\n",
      "Min:  -0.176758\n",
      "Max:  0.175817\n",
      "Near zero: 0.00%\n",
      "\n",
      "decoder_layers.0.mlp.gate_projection:\n",
      "Mean: 0.000397\n",
      "Std:  0.101356\n",
      "Min:  -0.176768\n",
      "Max:  0.176636\n",
      "Near zero: 0.00%\n",
      "\n",
      "decoder_layers.0.mlp.up_projection:\n",
      "Mean: -0.000113\n",
      "Std:  0.102286\n",
      "Min:  -0.176508\n",
      "Max:  0.176717\n",
      "Near zero: 0.00%\n",
      "\n",
      "decoder_layers.0.mlp.down_projection:\n",
      "Mean: -0.000708\n",
      "Std:  0.071396\n",
      "Min:  -0.124769\n",
      "Max:  0.124804\n",
      "Near zero: 0.00%\n",
      "\n",
      "decoder_layers.1.self_attn.qkv_projection:\n",
      "Mean: 0.005238\n",
      "Std:  0.101242\n",
      "Min:  -0.176656\n",
      "Max:  0.176754\n",
      "Near zero: 0.00%\n",
      "\n",
      "decoder_layers.1.self_attn.output_projection:\n",
      "Mean: -0.005065\n",
      "Std:  0.101385\n",
      "Min:  -0.175676\n",
      "Max:  0.176358\n",
      "Near zero: 0.00%\n",
      "\n",
      "decoder_layers.1.mlp.gate_projection:\n",
      "Mean: -0.002864\n",
      "Std:  0.101891\n",
      "Min:  -0.176536\n",
      "Max:  0.176570\n",
      "Near zero: 0.00%\n",
      "\n",
      "decoder_layers.1.mlp.up_projection:\n",
      "Mean: 0.001448\n",
      "Std:  0.102296\n",
      "Min:  -0.176653\n",
      "Max:  0.176675\n",
      "Near zero: 0.00%\n",
      "\n",
      "decoder_layers.1.mlp.down_projection:\n",
      "Mean: -0.000822\n",
      "Std:  0.072286\n",
      "Min:  -0.124877\n",
      "Max:  0.124973\n",
      "Near zero: 0.00%\n",
      "torch.Size([10000, 10])\n",
      "\n",
      "Activation Variances:\n",
      "decoder_layers.0.self_attn.qkv_projection: 0.097020\n",
      "decoder_layers.0.self_attn.output_projection: 0.016452\n",
      "decoder_layers.0.mlp.gate_projection: 0.257783\n",
      "decoder_layers.0.mlp.up_projection: 0.255544\n",
      "decoder_layers.0.mlp.down_projection: 0.009152\n",
      "decoder_layers.1.self_attn.qkv_projection: 0.249121\n",
      "decoder_layers.1.self_attn.output_projection: 0.025791\n",
      "decoder_layers.1.mlp.gate_projection: 0.294981\n",
      "decoder_layers.1.mlp.up_projection: 0.219470\n",
      "decoder_layers.1.mlp.down_projection: 0.009540\n"
     ]
    }
   ],
   "source": [
    "\n",
    "validate_model_initial_states(model, config=config, input_size=(10,), n_samples=10000)"
   ]
  },
  {
   "cell_type": "code",
   "execution_count": 108,
   "metadata": {},
   "outputs": [
    {
     "name": "stdout",
     "output_type": "stream",
     "text": [
      "GELU (tanh approximation) gain: 0.6666\n"
     ]
    }
   ],
   "source": [
    "import torch\n",
    "import math\n",
    "import numpy as np\n",
    "\n",
    "def calculate_gelu_gain():\n",
    "    \"\"\"\n",
    "    Calculates the gain for GELU activation with tanh approximation.\n",
    "    Uses numerical differentiation to find the variance preservation factor.\n",
    "    \"\"\"\n",
    "    def gelu(x):\n",
    "        # GELU with tanh approximation\n",
    "        return x * 0.5 * (1 + torch.tanh(math.sqrt(2/math.pi) * (x + 0.044715 * x**3)))\n",
    "    \n",
    "    # Generate random input samples\n",
    "    num_samples = 1000000\n",
    "    x = torch.randn(num_samples)\n",
    "    \n",
    "    # Calculate numerical derivative\n",
    "    epsilon = 1e-6\n",
    "    x_plus = x + epsilon\n",
    "    x_minus = x - epsilon\n",
    "    derivative = (gelu(x_plus) - gelu(x_minus)) / (2 * epsilon)\n",
    "    \n",
    "    # Calculate variance of derivative (gain is square root of this)\n",
    "    gain = float(torch.sqrt(torch.mean(derivative**2)))\n",
    "    \n",
    "    return gain\n",
    "\n",
    "gain = calculate_gelu_gain()\n",
    "print(f\"GELU (tanh approximation) gain: {gain:.4f}\")"
   ]
  },
  {
   "cell_type": "code",
   "execution_count": null,
   "metadata": {},
   "outputs": [],
   "source": []
  }
 ],
 "metadata": {
  "kernelspec": {
   "display_name": "ai_experimentation_env",
   "language": "python",
   "name": "python3"
  },
  "language_info": {
   "codemirror_mode": {
    "name": "ipython",
    "version": 3
   },
   "file_extension": ".py",
   "mimetype": "text/x-python",
   "name": "python",
   "nbconvert_exporter": "python",
   "pygments_lexer": "ipython3",
   "version": "3.11.11"
  }
 },
 "nbformat": 4,
 "nbformat_minor": 2
}
