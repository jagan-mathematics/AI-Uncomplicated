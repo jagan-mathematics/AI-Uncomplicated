{
 "cells": [
  {
   "cell_type": "code",
   "execution_count": 2,
   "metadata": {},
   "outputs": [],
   "source": [
    "import sys\n",
    "\n",
    "sys.path.append('/workspace/AI-Uncomplicated')\n",
    "\n",
    "from core.tokenizer.tokenizer_loader import TokenizerArgs\n",
    "from core.trainer.dataloader import DataArgs\n",
    "\n",
    "\n",
    "args = DataArgs(root_dir=\"/workspace/AI-Uncomplicated/artifact/pretraining_data\",\n",
    "                    sources={\"TigerResearch\": 1.0},\n",
    "                    tokenizer=TokenizerArgs(name=\"GI01-tokenizer-v0.1-en\", path=\"/workspace/AI-Uncomplicated/artifact/tokenizer\"),\n",
    "                    fim_rate=0.1,\n",
    "                    fim_type=\"content\",\n",
    "                    batch_size=8,\n",
    "                    load_async=True)"
   ]
  },
  {
   "cell_type": "code",
   "execution_count": 3,
   "metadata": {},
   "outputs": [],
   "source": [
    "import os\n",
    "from core.tokenizer.tokenizer_loader import SPMTokenizer, TokenizerArgs\n",
    "\n",
    "tokenizer = SPMTokenizer(os.path.join(args.tokenizer.path, args.tokenizer.name))"
   ]
  },
  {
   "cell_type": "code",
   "execution_count": 4,
   "metadata": {},
   "outputs": [],
   "source": [
    "from core.trainer.dataloader import init_dataloader_state_from_args\n",
    "\n",
    "\n",
    "states = init_dataloader_state_from_args(args, 1, 2)"
   ]
  },
  {
   "cell_type": "code",
   "execution_count": 11,
   "metadata": {},
   "outputs": [],
   "source": [
    "from core.trainer.dataloader import build_dataloader_from_args\n",
    "\n",
    "\n",
    "dataloader = build_dataloader_from_args(args, states)"
   ]
  },
  {
   "cell_type": "code",
   "execution_count": 12,
   "metadata": {},
   "outputs": [],
   "source": [
    "with dataloader as loader:\n",
    "    for data in loader:\n",
    "        # print(data)\n",
    "        break"
   ]
  },
  {
   "cell_type": "code",
   "execution_count": 13,
   "metadata": {},
   "outputs": [],
   "source": [
    "sample = data[0][:, :, 0]"
   ]
  },
  {
   "cell_type": "code",
   "execution_count": 14,
   "metadata": {},
   "outputs": [
    {
     "name": "stdout",
     "output_type": "stream",
     "text": [
      "<FIL_PRE>. Consider using multiple folds or unusual shapes. Don't forget to include the important information—such as the date, time, telephone number, and place (fig. 1-20<FIL_SUF> Cahoon, is a terrific way to get your name out into the industry. Add your name and e-mail on the back for<FIL_MID>).\n",
      "\n",
      "Fig. 1–20: This lovely 3-D pop-up card, designed by Fran</s><s> _R. N. Shaw's Leyswood in Sussex, England, designed 1866 and executed 1868–69. Mostly demolished, this house was reproduced in periodicals of the day and had a broad influence on English and American architects in the early 1870s_. (Illustration Credit 2.1)\n",
      "\n",
      "When McKim reached France, he began a ten-day tour of Normandy, the northern French region so popular with the court of Louis Napoléon. Along the Channel coast, summer visitors now flocked to what had once been a quiet agricultural region. Tourists had come to Normandy from the 1830s onward, and English architects sketched the giant vernacular farm buildings and the manor houses. Deauville and Trouville became resorts. The trip to these villages had been arduous until the railroad pushed through from Paris to Rouen, and again in 1854 to the coastal towns. Visitors found cool breezes, picturesque vistas, and great fishing in the region in the early days. The area especially attracted the newly made men of wealth in industrial France who did not have the loyalty to their home districts of the landed aristocratic class. They would build commodious, wooden-framed summer villas along the coast from the mid-century forward. The new houses often used elements of the vernacular buildings of the region, such as brick infilling between timbers and decorative woodwork, to create a harmonious appearance and reflect the older buildings nearby. Such coastal houses were also being built in northern Germany. The new villas appear taller and more vertical in contrast to the horizontal appearance of the older farm complexes and manors of the region, which sprawl heavier and lower to the land.</s><s> So the answer to the question 'what did they know about the Nazis' crimes?' is, frustratingly, 'not very much'. There were a few indications that – in retrospect – hinted at dark deeds, not least Martin Bormann's vindictive, high-handed behaviour, but beyond that little of any substance. We must conclude – paradoxically perhaps – that the gilded cage of the Berghof, or of Hitler's entourage, was not the best vantage point from which to view the true murderous nature of Nazism.\n",
      "\n",
      "Indeed it was Martin Bormann who – as much as Hitler – played a key role in the lives and careers of the Berghof staff. As Hitler's personal secretary, Bormann assumed responsibility for the day-to-day running of the entire Berghof area, as well as overseeing the building's expansion in 1936. In this capacity, he became known as the 'Lord of the Obersalzberg', and sought to exercise authority over the Berghof staff, and was responsible for the dismissal of Anna Plaim in 1943, considering her unsuitable for service because of her parents' religious faith. Herbert Döhring also got on the wrong side of Bormann, and only earned the latter's respect through his robust self-defence.</s><s> Those cold blue eyes glued my tongue. I sat without moving.\n",
      "\n",
      "\"From the very beginning of my marriage to Jill, Leigh seemed to hate me. She could never forgive me for taking her mother away from her father. She adored her father. I tried to win her affections. She wanted none of that. I didn't do a thing to harm her, and eventually I stopped trying to win her over. I knew she blamed me for her father's desperate unhappiness.\n",
      "\n",
      "\"I came home from my long honeymoon with Jill disillusioned. Horribly disillusioned. I tried not to let anyone see it. Jill isn't capable of loving anyone more than she loves herself and her everlasting youthful image. My God, how that woman loves to look in mirrors!\n",
      "\n",
      "\"I grew disgusted seeing the way she had to have every hair in place all the time, always glancing to check on the shine on her nose, checking for lipstick smudges.\"\n",
      "\n",
      "His smile was crooked, bitter. \"And so I came to realize too late that despite all the beauty Jill possessed, no man could love Jill for anything other than her facade. Jill has no depths. She's just a shell of a woman. Everything sweet, and thoughtful and kind went into her daughter. I began to be more aware of Leigh in a room than I was of her mother. Soon I was noticing a lovely adolescent girl who seldom glanced in any mirror. A girl who loved to wear simple, loose garments that fluttered when she moved, and her hair was long and loose and straight. Leigh waited on Troy, with pleasure and joy she waited on Troy. I loved and admired her for doing that.</s><s><FIL_PRE> Someone grabs me. The chair comes out of my hands and I fall. It is the principal and Ms. Dana. I am going ape-shit because I need to tell Gloria not to go. I need to tell her to come help me escape but Ms. Dana pulls me down and puts me on the floor. She is on top of<FIL_SUF>. Now I'm on the floor again next to a book rack with Julie of the Wolves and Island of the Blue Dolphins. My eyes want to cry but they can't because my breath is catching and catching and I can't breathe. I see Ms. Dana and Mrs. Lomos and Mrs. Wake and the librarian and now it feels like I'm under water or a blanket and then everything is dark.12\n",
      "\n",
      "EXACTLY 3:31 IN THE AFTERNOON, TUESDAY, SEPTEMBER<FIL_MID> me so I can't get up. I kick and fight. I bite her in the arm. She yells and lets go.\n",
      "\n",
      "\"Ginny!\" I hear someone say. \"Ginny!\"\n",
      "\n",
      "It is Mrs. Lomos. I see her feet.\n",
      "\n",
      "I stand. \"It—\" I say. \"It was exa—\" But the words don't come and then the principal grabs me from behind. I am falling but as I go down I look out the window and see the Green Car driving away</s><s> Irenaeus makes many interesting generalizations about the types of people advancing the \"gnosis falsely so-called\"; they appeared slippery, cocky, and at times strangely insecure. The preface refers to the heretics' \"plausible system.\" This plausibility he proceeds very cleverly and often wittily to undermine, unafraid to go into detailed exposition of Gnostic theosophical superstructures, even to the point of boredom—part of his method for undermining the grip of the Gnostics' plausibility. One thing he wants his readers to recognize is that \"Their language resembles ours, while their sentiments are very different.\" This is still a resonant observation and subverts the notion, often held today, that, _well,_ they were all _Christians,_ weren't they? Not in the view of Irenaeus! They were outsiders to the communion of the apostolic faithful and should repent of their blasphemies before seeking reentry to the fold. The orthodox majority, under such leaders as Irenaeus, would never allow an esoteric branch of the faith with superior tendencies to thrive: too much like competition, to say the very least.</s><s> Introduction\n",
      "The Roman Superhighway or Bataan Provincial Highway, formerly known as the Bataan Provincial Expressway, is a , two- to four-lane major highway that connects the municipality of Dinalupihan to the municipality of Mariveles in Bataan, Philippines. The entire road forms part of National Route 301 of the Philippine highway network.\n",
      "\n",
      "Etymology\n",
      "Roman Superhighway is named after Pablo Roman Sr., the former representative of Bataan who is the acknowledged father of the export processing zone known as Bataan Export Processing Zone (BEPZ; now known as Freeport Area of Bataan (FAB) since June 30, 2010).\n",
      " History \n",
      "Construction of the Roman Superhighway began on April 7, 1973 during the Martial Law period and completed on July 16, 1977. The project was implemented by President Ferdinand Marcos. It was originally intended to be an expressway to serve BEPZ in Mariveles, Bataan, but it later became an at-grade highway when local residents built houses and businesses along it.\n",
      "The fully concrete road has an effective width of , although some portions measured up to maximum. Phase 1 of the total project covered from Dinalupihan to Alauli Junction in Pilar and it measured long and complemented with 14 steel-concrete bridges. Phase 2 is measured and has 12 bridges.\n",
      "Construction Development Corporation of the Philippines (CDCP) and Monark International worked on the project. CDCP accomplished its task in three years and three months. Phase 2 was completed by Monark in two years and 11 months. The Department of Public Works and Highways (DPWH) designed and supervised the construction of the road project. Phase 1 costs , while was spent for Phase 2. The total amount includes the payment for the right-of-way of former agricultural lands. Some of the farmlots were even donated by the owners.\n",
      "Throughout its existence, rehabilitation works were made on the highway such as applying asphalt overlay either on an existing concrete pavement or both the concrete pavement and the asphalt used on its shoulders and replacing an old pavement with a new one. Recently, some of its portions were widened to accommodate more\n"
     ]
    }
   ],
   "source": [
    "print(tokenizer.decode(sample[0].tolist()))"
   ]
  },
  {
   "cell_type": "code",
   "execution_count": 17,
   "metadata": {},
   "outputs": [
    {
     "data": {
      "text/plain": [
       "True"
      ]
     },
     "execution_count": 17,
     "metadata": {},
     "output_type": "execute_result"
    }
   ],
   "source": [
    "217 in sample[0]"
   ]
  }
 ],
 "metadata": {
  "kernelspec": {
   "display_name": "ai_experimentation_env",
   "language": "python",
   "name": "python3"
  },
  "language_info": {
   "codemirror_mode": {
    "name": "ipython",
    "version": 3
   },
   "file_extension": ".py",
   "mimetype": "text/x-python",
   "name": "python",
   "nbconvert_exporter": "python",
   "pygments_lexer": "ipython3",
   "version": "3.11.11"
  }
 },
 "nbformat": 4,
 "nbformat_minor": 2
}
