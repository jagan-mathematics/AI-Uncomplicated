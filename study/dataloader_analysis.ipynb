{
 "cells": [
  {
   "cell_type": "code",
   "execution_count": 1,
   "metadata": {},
   "outputs": [],
   "source": [
    "import sys\n",
    "\n",
    "sys.path.append('/workspace/AI-Uncomplicated')\n",
    "\n",
    "from core.tokenizer.tokenizer_loader import TokenizerArgs\n",
    "from core.trainer.dataloader import DataArgs\n",
    "\n",
    "\n",
    "args = DataArgs(root_dir=\"/workspace/AI-Uncomplicated/artifact/pretraining_data\",\n",
    "                    sources={\"TigerResearch\": 1.0},\n",
    "                    tokenizer=TokenizerArgs(name=\"GI01-tokenizer-v0.1-en\", path=\"/workspace/AI-Uncomplicated/artifact/tokenizer\"),\n",
    "                    fim_rate=1.0,\n",
    "                    fim_type=\"document\")"
   ]
  },
  {
   "cell_type": "code",
   "execution_count": 2,
   "metadata": {},
   "outputs": [],
   "source": [
    "import os\n",
    "from core.tokenizer.tokenizer_loader import SPMTokenizer, TokenizerArgs\n",
    "\n",
    "tokenizer = SPMTokenizer(os.path.join(args.tokenizer.path, args.tokenizer.name))"
   ]
  },
  {
   "cell_type": "code",
   "execution_count": 3,
   "metadata": {},
   "outputs": [],
   "source": [
    "from core.trainer.dataloader import init_dataloader_state_from_args\n",
    "\n",
    "\n",
    "states = init_dataloader_state_from_args(args, 1, 2)"
   ]
  },
  {
   "cell_type": "code",
   "execution_count": 4,
   "metadata": {},
   "outputs": [],
   "source": [
    "from core.trainer.dataloader import build_dataloader_from_args\n",
    "\n",
    "\n",
    "dataloader = build_dataloader_from_args(args, states)"
   ]
  },
  {
   "cell_type": "code",
   "execution_count": 5,
   "metadata": {},
   "outputs": [
    {
     "ename": "ValueError",
     "evalue": "could not broadcast input array from shape (2066,2) into shape (2048,2)",
     "output_type": "error",
     "traceback": [
      "\u001b[31m---------------------------------------------------------------------------\u001b[39m",
      "\u001b[31mValueError\u001b[39m                                Traceback (most recent call last)",
      "\u001b[36mCell\u001b[39m\u001b[36m \u001b[39m\u001b[32mIn[5]\u001b[39m\u001b[32m, line 2\u001b[39m\n\u001b[32m      1\u001b[39m \u001b[38;5;28;01mwith\u001b[39;00m dataloader \u001b[38;5;28;01mas\u001b[39;00m loader:\n\u001b[32m----> \u001b[39m\u001b[32m2\u001b[39m \u001b[43m        \u001b[49m\u001b[38;5;28;43;01mfor\u001b[39;49;00m\u001b[43m \u001b[49m\u001b[43mdata\u001b[49m\u001b[43m \u001b[49m\u001b[38;5;129;43;01min\u001b[39;49;00m\u001b[43m \u001b[49m\u001b[43mloader\u001b[49m\u001b[43m:\u001b[49m\n\u001b[32m      3\u001b[39m \u001b[43m            \u001b[49m\u001b[38;5;28;43mprint\u001b[39;49m\u001b[43m(\u001b[49m\u001b[43mdata\u001b[49m\u001b[43m)\u001b[49m\n\u001b[32m      4\u001b[39m \u001b[43m            \u001b[49m\u001b[38;5;28;43;01mbreak\u001b[39;49;00m\n",
      "\u001b[36mFile \u001b[39m\u001b[32m/workspace/AI-Uncomplicated/core/trainer/dataloader.py:592\u001b[39m, in \u001b[36mbatch_and_shuffle_prefetched_sequences\u001b[39m\u001b[34m(data_loader, batch_size, prefetch_size, seq_len, n_views, state)\u001b[39m\n\u001b[32m    589\u001b[39m _it_state = state[\u001b[33m\"\u001b[39m\u001b[33mit_state\u001b[39m\u001b[33m\"\u001b[39m]\n\u001b[32m    591\u001b[39m \u001b[38;5;28;01mfor\u001b[39;00m i \u001b[38;5;129;01min\u001b[39;00m \u001b[38;5;28mrange\u001b[39m(prefetch_size * batch_size):\n\u001b[32m--> \u001b[39m\u001b[32m592\u001b[39m     \u001b[43mprefetch_buffer\u001b[49m\u001b[43m[\u001b[49m\u001b[43mi\u001b[49m\u001b[43m]\u001b[49m, next_it_state = \u001b[38;5;28mnext\u001b[39m(data_loader)\n\u001b[32m    593\u001b[39m rng.shuffle(prefetch_buffer, axis=\u001b[32m0\u001b[39m)\n\u001b[32m    594\u001b[39m \u001b[38;5;28;01mfor\u001b[39;00m i \u001b[38;5;129;01min\u001b[39;00m \u001b[38;5;28mrange\u001b[39m(seq_idx * batch_size):\n",
      "\u001b[31mValueError\u001b[39m: could not broadcast input array from shape (2066,2) into shape (2048,2)"
     ]
    }
   ],
   "source": [
    "with dataloader as loader:\n",
    "        for data in loader:\n",
    "            print(data)\n",
    "            break"
   ]
  },
  {
   "cell_type": "code",
   "execution_count": null,
   "metadata": {},
   "outputs": [],
   "source": [
    "sample = data[0][:, :, 0]"
   ]
  },
  {
   "cell_type": "code",
   "execution_count": 6,
   "metadata": {},
   "outputs": [
    {
     "ename": "NameError",
     "evalue": "name 'sample' is not defined",
     "output_type": "error",
     "traceback": [
      "\u001b[31m---------------------------------------------------------------------------\u001b[39m",
      "\u001b[31mNameError\u001b[39m                                 Traceback (most recent call last)",
      "\u001b[36mCell\u001b[39m\u001b[36m \u001b[39m\u001b[32mIn[6]\u001b[39m\u001b[32m, line 1\u001b[39m\n\u001b[32m----> \u001b[39m\u001b[32m1\u001b[39m \u001b[38;5;28mprint\u001b[39m(tokenizer.decode(\u001b[43msample\u001b[49m[\u001b[32m1\u001b[39m].tolist()))\n",
      "\u001b[31mNameError\u001b[39m: name 'sample' is not defined"
     ]
    }
   ],
   "source": [
    "print(tokenizer.decode(sample[1].tolist()))"
   ]
  },
  {
   "cell_type": "code",
   "execution_count": 9,
   "metadata": {},
   "outputs": [
    {
     "ename": "NameError",
     "evalue": "name 'sample' is not defined",
     "output_type": "error",
     "traceback": [
      "\u001b[31m---------------------------------------------------------------------------\u001b[39m",
      "\u001b[31mNameError\u001b[39m                                 Traceback (most recent call last)",
      "\u001b[36mCell\u001b[39m\u001b[36m \u001b[39m\u001b[32mIn[9]\u001b[39m\u001b[32m, line 1\u001b[39m\n\u001b[32m----> \u001b[39m\u001b[32m1\u001b[39m \u001b[38;5;28mprint\u001b[39m(\u001b[33m\"\u001b[39m\u001b[33m   \u001b[39m\u001b[33m\"\u001b[39m.join([tokenizer.model.id_to_piece(\u001b[38;5;28mint\u001b[39m(i)) \u001b[38;5;28;01mfor\u001b[39;00m i \u001b[38;5;129;01min\u001b[39;00m \u001b[43msample\u001b[49m[\u001b[32m0\u001b[39m]]))\n",
      "\u001b[31mNameError\u001b[39m: name 'sample' is not defined"
     ]
    }
   ],
   "source": [
    "print(\"   \".join([tokenizer.model.id_to_piece(int(i)) for i in sample[0]]))"
   ]
  },
  {
   "cell_type": "code",
   "execution_count": 8,
   "metadata": {},
   "outputs": [
    {
     "ename": "NameError",
     "evalue": "name 'sample' is not defined",
     "output_type": "error",
     "traceback": [
      "\u001b[31m---------------------------------------------------------------------------\u001b[39m",
      "\u001b[31mNameError\u001b[39m                                 Traceback (most recent call last)",
      "\u001b[36mCell\u001b[39m\u001b[36m \u001b[39m\u001b[32mIn[8]\u001b[39m\u001b[32m, line 1\u001b[39m\n\u001b[32m----> \u001b[39m\u001b[32m1\u001b[39m \u001b[38;5;28mint\u001b[39m(\u001b[43msample\u001b[49m[\u001b[32m0\u001b[39m][\u001b[32m0\u001b[39m])\n",
      "\u001b[31mNameError\u001b[39m: name 'sample' is not defined"
     ]
    }
   ],
   "source": [
    "int(sample[0][0])"
   ]
  },
  {
   "cell_type": "code",
   "execution_count": 27,
   "metadata": {},
   "outputs": [
    {
     "data": {
      "text/plain": [
       "False"
      ]
     },
     "execution_count": 27,
     "metadata": {},
     "output_type": "execute_result"
    }
   ],
   "source": [
    "217 in sample[1]"
   ]
  },
  {
   "cell_type": "code",
   "execution_count": 24,
   "metadata": {},
   "outputs": [
    {
     "data": {
      "text/plain": [
       "215"
      ]
     },
     "execution_count": 24,
     "metadata": {},
     "output_type": "execute_result"
    }
   ],
   "source": [
    "tokenizer.model.PieceToId(\"<FIL_MID>\")"
   ]
  },
  {
   "cell_type": "code",
   "execution_count": 10,
   "metadata": {},
   "outputs": [
    {
     "data": {
      "text/plain": [
       "1"
      ]
     },
     "execution_count": 10,
     "metadata": {},
     "output_type": "execute_result"
    }
   ],
   "source": [
    "tokenizer.start_token_idx"
   ]
  },
  {
   "cell_type": "code",
   "execution_count": 11,
   "metadata": {},
   "outputs": [
    {
     "data": {
      "text/plain": [
       "2"
      ]
     },
     "execution_count": 11,
     "metadata": {},
     "output_type": "execute_result"
    }
   ],
   "source": [
    "tokenizer.end_token_idx"
   ]
  },
  {
   "cell_type": "code",
   "execution_count": null,
   "metadata": {},
   "outputs": [],
   "source": []
  }
 ],
 "metadata": {
  "kernelspec": {
   "display_name": "ai_experimentation_env",
   "language": "python",
   "name": "python3"
  },
  "language_info": {
   "codemirror_mode": {
    "name": "ipython",
    "version": 3
   },
   "file_extension": ".py",
   "mimetype": "text/x-python",
   "name": "python",
   "nbconvert_exporter": "python",
   "pygments_lexer": "ipython3",
   "version": "3.11.11"
  }
 },
 "nbformat": 4,
 "nbformat_minor": 2
}
